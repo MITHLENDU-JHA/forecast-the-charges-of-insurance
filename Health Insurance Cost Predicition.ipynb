{
 "cells": [
  {
   "cell_type": "code",
   "execution_count": null,
   "metadata": {},
   "outputs": [],
   "source": [
    "import pandas as pd\n",
    "import numpy as np\n",
    "import scipy as sp\n",
    "import sklearn as sk\n",
    "import matplotlib.pyplot as plt\n",
    "%matplotlib inline\n",
    "from sklearn.model_selection import cross_val_score, KFold\n",
    "from sklearn import model_selection\n",
    "from sklearn import linear_model\n",
    "from sklearn.metrics import mean_squared_error,mean_absolute_error\n"
   ]
  },
  {
   "cell_type": "code",
   "execution_count": null,
   "metadata": {},
   "outputs": [],
   "source": [
    "insurance=pd.read_csv(\"insurance.csv\" )\n",
    "insurance.info()"
   ]
  },
  {
   "cell_type": "code",
   "execution_count": null,
   "metadata": {},
   "outputs": [],
   "source": [
    "def fizz_count(x):\n",
    "    count = 0\n",
    "    for item in x:\n",
    "        if item == 'fizz':\n",
    "            count = count + 1\n",
    "    return count"
   ]
  },
  {
   "cell_type": "code",
   "execution_count": null,
   "metadata": {},
   "outputs": [],
   "source": [
    "    mapped=[]\n",
    "    \n",
    "    for row in 'column':\n",
    "        \n",
    "        if row==\"yes\":\n",
    "            mapped.append(1)\n",
    "        else:\n",
    "            mapped.append(0)\n",
    "        \n",
    "        \n",
    "    return mapped\n",
    "insurance[\"smoker_norm\"]=map_smoking(insurance[\"smoker\"])"
   ]
  },
  {
   "cell_type": "code",
   "execution_count": null,
   "metadata": {},
   "outputs": [],
   "source": [
    "nonnum_cols=[col for col in insurance.select_dtypes(include=[\"object\"])]"
   ]
  },
  {
   "cell_type": "code",
   "execution_count": null,
   "metadata": {},
   "outputs": [],
   "source": [
    "def map_obese(column):\n",
    "    mapped=[]\n",
    "    for row in column:\n",
    "        if row>30:\n",
    "            mapped.append(1)\n",
    "        else:\n",
    "            mapped.append(0)\n",
    "    return mapped\n",
    "insurance[\"obese\"]=map_obese(insurance[\"bmi\"])"
   ]
  },
  {
   "cell_type": "code",
   "execution_count": null,
   "metadata": {},
   "outputs": [],
   "source": [
    "insurance.head(5)"
   ]
  },
  {
   "cell_type": "code",
   "execution_count": null,
   "metadata": {},
   "outputs": [],
   "source": [
    "colnum=len(insurance.columns)-3\n",
    "fig,ax=plt.subplots(colnum,1,figsize=(3,25))\n",
    "ax[0].set_ylabel(\"charges\")\n",
    "p_vals={}\n",
    "for ind,col in enumerate([i for i in insurance.columns if i not in [\"smoker\",\"region\",\"charges\",\"sex_norm\"]]):\n",
    "    \n",
    "    ax[ind].scatter(insurance[col],insurance.charges,s=5)\n",
    "    ax[ind].set_xlabel(col)\n",
    "    ax[ind].set_ylabel(\"charges\")    \n",
    "plt.show()"
   ]
  },
  {
   "cell_type": "code",
   "execution_count": null,
   "metadata": {},
   "outputs": [],
   "source": [
    "corr_vals=[]\n",
    "collabel=[]\n",
    "for col in [i for i in insurance.columns if i not in nonnum_cols]:\n",
    "    \n",
    "    p_val=sp.stats.pearsonr(insurance[col],insurance[\"charges\"])\n",
    "    corr_vals.append(np.abs(p_val[0]))\n",
    "    print(col,\": \",np.abs(p_val[0]))\n",
    "    collabel.append(col)\n",
    "plt.bar(range(1,len(corr_vals)+1),corr_vals)\n",
    "plt.xticks(range(1,len(corr_vals)+1),collabel,rotation=45)\n",
    "plt.ylabel(\"Absolute correlation\")"
   ]
  },
  {
   "cell_type": "code",
   "execution_count": null,
   "metadata": {},
   "outputs": [],
   "source": [
    "cols_not_reg3=['age', 'obese', 'smoker_norm']"
   ]
  },
  {
   "cell_type": "code",
   "execution_count": null,
   "metadata": {},
   "outputs": [],
   "source": [
    "kf=KFold(n_splits=10, random_state=1, shuffle=True)\n",
    "intercepts=[]\n",
    "mses=[]\n",
    "coefs=[]\n",
    "\n",
    "for train_index, test_index in kf.split(insurance[cols_not_reg3]):\n",
    "    \n",
    "    lr=linear_model.LinearRegression()\n",
    "    lr.fit(insurance[cols_not_reg3].iloc[train_index],insurance[\"charges\"].iloc[train_index])\n",
    "    lr_predictions=lr.predict(insurance[cols_not_reg3].iloc[test_index])\n",
    "    \n",
    "    lr_mse=mean_squared_error(insurance[\"charges\"].iloc[test_index],lr_predictions)\n",
    "    \n",
    "    intercepts.append(lr.intercept_)\n",
    "    \n",
    "    coefs.append(lr.coef_)\n",
    "    mses.append(lr_mse)"
   ]
  },
  {
   "cell_type": "code",
   "execution_count": null,
   "metadata": {},
   "outputs": [],
   "source": [
    "rmses=[x**.5 for x in mses]\n",
    "avg_rmse=np.mean(rmses)\n",
    "avg_intercept=np.mean(intercepts)\n",
    "age_coefs=[]\n",
    "obesity_coefs=[]\n",
    "smoking_coefs=[]\n",
    "for vals in coefs:\n",
    "    #print vals[0]\n",
    "    age_coefs.append(vals[0])\n",
    "    obesity_coefs.append(vals[1])\n",
    "    smoking_coefs.append(vals[2])\n",
    "age_coef=np.mean(age_coefs)\n",
    "obesity_coef=np.mean(obesity_coefs)\n",
    "smoking_coef=np.mean(smoking_coefs)\n",
    "print(\"a: \",age_coef,\" b: \",obesity_coef,\" c: \",smoking_coef,\" intercept: \",avg_intercept)\n"
   ]
  },
  {
   "cell_type": "code",
   "execution_count": null,
   "metadata": {},
   "outputs": [],
   "source": [
    "def calculate_insurance(age,obesity,smoking):\n",
    "    y=(age_coef*age)+(obesity_coef*obesity)+(smoking_coef*smoking)+avg_intercept\n",
    "    return y"
   ]
  },
  {
   "cell_type": "code",
   "execution_count": null,
   "metadata": {},
   "outputs": [],
   "source": [
    "print(calculate_insurance(34,1,1))"
   ]
  },
  {
   "cell_type": "code",
   "execution_count": null,
   "metadata": {},
   "outputs": [],
   "source": []
  }
 ],
 "metadata": {
  "kernelspec": {
   "display_name": "Python 3",
   "language": "python",
   "name": "python3"
  },
  "language_info": {
   "codemirror_mode": {
    "name": "ipython",
    "version": 3
   },
   "file_extension": ".py",
   "mimetype": "text/x-python",
   "name": "python",
   "nbconvert_exporter": "python",
   "pygments_lexer": "ipython3",
   "version": "3.6.5"
  }
 },
 "nbformat": 4,
 "nbformat_minor": 2
}
